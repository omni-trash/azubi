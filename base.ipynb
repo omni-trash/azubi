{
 "cells": [
  {
   "cell_type": "markdown",
   "metadata": {},
   "source": [
    "# String Interpolation"
   ]
  },
  {
   "cell_type": "code",
   "execution_count": 1,
   "metadata": {
    "dotnet_interactive": {
     "language": "csharp"
    },
    "polyglot_notebook": {
     "kernelName": "csharp"
    },
    "vscode": {
     "languageId": "polyglot-notebook"
    }
   },
   "outputs": [
    {
     "name": "stdout",
     "output_type": "stream",
     "text": [
      "Hallo Welt\n",
      "Hallo Welt\n",
      "Hallo Welt\n",
      "Hallo Welt\n"
     ]
    }
   ],
   "source": [
    "string s1 = \"Hallo\";\n",
    "string s2 = \"Welt\";\n",
    "\n",
    "// Verkettung\n",
    "Console.WriteLine(s1 + \" \" + s2);\n",
    "\n",
    "// Formatierung\n",
    "Console.WriteLine(\"{0} {1}\", s1, s2);\n",
    "\n",
    "// Interpolation\n",
    "Console.WriteLine($\"{s1} {s2}\");\n",
    "\n",
    "// StringBuilder (Performance bei vielen Verkettungen)\n",
    "StringBuilder sb = new();\n",
    "sb.Append(s1);\n",
    "sb.Append(\" \");\n",
    "sb.Append(s2);\n",
    "Console.WriteLine(sb);\n"
   ]
  },
  {
   "cell_type": "markdown",
   "metadata": {},
   "source": [
    "# ASCII Tabelle"
   ]
  },
  {
   "cell_type": "code",
   "execution_count": 3,
   "metadata": {
    "dotnet_interactive": {
     "language": "csharp"
    },
    "polyglot_notebook": {
     "kernelName": "csharp"
    },
    "vscode": {
     "languageId": "polyglot-notebook"
    }
   },
   "outputs": [
    {
     "name": "stdout",
     "output_type": "stream",
     "text": [
      "0x00 --- 0x01 --- 0x02 --- 0x03 --- 0x04 --- 0x05 --- 0x06 --- 0x07 --- 0x08 --- 0x09 --- 0x0A --- 0x0B --- 0x0C --- 0x0D --- 0x0E --- 0x0F --- \n",
      "0x10 --- 0x11 --- 0x12 --- 0x13 --- 0x14 --- 0x15 --- 0x16 --- 0x17 --- 0x18 --- 0x19 --- 0x1A --- 0x1B --- 0x1C --- 0x1D --- 0x1E --- 0x1F --- \n",
      "0x20 ' ' 0x21 '!' 0x22 '\"' 0x23 '#' 0x24 '$' 0x25 '%' 0x26 '&' 0x27 ''' 0x28 '(' 0x29 ')' 0x2A '*' 0x2B '+' 0x2C ',' 0x2D '-' 0x2E '.' 0x2F '/' \n",
      "0x30 '0' 0x31 '1' 0x32 '2' 0x33 '3' 0x34 '4' 0x35 '5' 0x36 '6' 0x37 '7' 0x38 '8' 0x39 '9' 0x3A ':' 0x3B ';' 0x3C '<' 0x3D '=' 0x3E '>' 0x3F '?' \n",
      "0x40 '@' 0x41 'A' 0x42 'B' 0x43 'C' 0x44 'D' 0x45 'E' 0x46 'F' 0x47 'G' 0x48 'H' 0x49 'I' 0x4A 'J' 0x4B 'K' 0x4C 'L' 0x4D 'M' 0x4E 'N' 0x4F 'O' \n",
      "0x50 'P' 0x51 'Q' 0x52 'R' 0x53 'S' 0x54 'T' 0x55 'U' 0x56 'V' 0x57 'W' 0x58 'X' 0x59 'Y' 0x5A 'Z' 0x5B '[' 0x5C '\\' 0x5D ']' 0x5E '^' 0x5F '_' \n",
      "0x60 '`' 0x61 'a' 0x62 'b' 0x63 'c' 0x64 'd' 0x65 'e' 0x66 'f' 0x67 'g' 0x68 'h' 0x69 'i' 0x6A 'j' 0x6B 'k' 0x6C 'l' 0x6D 'm' 0x6E 'n' 0x6F 'o' \n",
      "0x70 'p' 0x71 'q' 0x72 'r' 0x73 's' 0x74 't' 0x75 'u' 0x76 'v' 0x77 'w' 0x78 'x' 0x79 'y' 0x7A 'z' 0x7B '{' 0x7C '|' 0x7D '}' 0x7E '~' 0x7F --- \n",
      "0x80 --- 0x81 --- 0x82 --- 0x83 --- 0x84 --- 0x85 --- 0x86 --- 0x87 --- 0x88 --- 0x89 --- 0x8A --- 0x8B --- 0x8C --- 0x8D --- 0x8E --- 0x8F --- \n",
      "0x90 --- 0x91 --- 0x92 --- 0x93 --- 0x94 --- 0x95 --- 0x96 --- 0x97 --- 0x98 --- 0x99 --- 0x9A --- 0x9B --- 0x9C --- 0x9D --- 0x9E --- 0x9F --- \n",
      "0xA0 ' ' 0xA1 '¡' 0xA2 '¢' 0xA3 '£' 0xA4 '¤' 0xA5 '¥' 0xA6 '¦' 0xA7 '§' 0xA8 '¨' 0xA9 '©' 0xAA 'ª' 0xAB '«' 0xAC '¬' 0xAD '­' 0xAE '®' 0xAF '¯' \n",
      "0xB0 '°' 0xB1 '±' 0xB2 '²' 0xB3 '³' 0xB4 '´' 0xB5 'µ' 0xB6 '¶' 0xB7 '·' 0xB8 '¸' 0xB9 '¹' 0xBA 'º' 0xBB '»' 0xBC '¼' 0xBD '½' 0xBE '¾' 0xBF '¿' \n",
      "0xC0 'À' 0xC1 'Á' 0xC2 'Â' 0xC3 'Ã' 0xC4 'Ä' 0xC5 'Å' 0xC6 'Æ' 0xC7 'Ç' 0xC8 'È' 0xC9 'É' 0xCA 'Ê' 0xCB 'Ë' 0xCC 'Ì' 0xCD 'Í' 0xCE 'Î' 0xCF 'Ï' \n",
      "0xD0 'Ð' 0xD1 'Ñ' 0xD2 'Ò' 0xD3 'Ó' 0xD4 'Ô' 0xD5 'Õ' 0xD6 'Ö' 0xD7 '×' 0xD8 'Ø' 0xD9 'Ù' 0xDA 'Ú' 0xDB 'Û' 0xDC 'Ü' 0xDD 'Ý' 0xDE 'Þ' 0xDF 'ß' \n",
      "0xE0 'à' 0xE1 'á' 0xE2 'â' 0xE3 'ã' 0xE4 'ä' 0xE5 'å' 0xE6 'æ' 0xE7 'ç' 0xE8 'è' 0xE9 'é' 0xEA 'ê' 0xEB 'ë' 0xEC 'ì' 0xED 'í' 0xEE 'î' 0xEF 'ï' \n",
      "0xF0 'ð' 0xF1 'ñ' 0xF2 'ò' 0xF3 'ó' 0xF4 'ô' 0xF5 'õ' 0xF6 'ö' 0xF7 '÷' 0xF8 'ø' 0xF9 'ù' 0xFA 'ú' 0xFB 'û' 0xFC 'ü' 0xFD 'ý' 0xFE 'þ' 0xFF 'ÿ' "
     ]
    }
   ],
   "source": [
    "for (int i = 0; i < 256; ++i)\n",
    "{\n",
    "    if (i > 0 && i % 16 == 0)\n",
    "    {\n",
    "        Console.WriteLine();\n",
    "    }\n",
    "\n",
    "    char c = (char)i;\n",
    "\n",
    "    if (char.IsControl(c))\n",
    "    {\n",
    "        Console.Write($\"0x{i:X2} --- \");\n",
    "    }\n",
    "    else\n",
    "    {\n",
    "        Console.Write($\"0x{i:X2} '{c}' \");\n",
    "    }\n",
    "}\n"
   ]
  },
  {
   "cell_type": "markdown",
   "metadata": {},
   "source": [
    "# ASCII Tabelle (faster output)"
   ]
  },
  {
   "cell_type": "code",
   "execution_count": 4,
   "metadata": {
    "dotnet_interactive": {
     "language": "csharp"
    },
    "polyglot_notebook": {
     "kernelName": "csharp"
    },
    "vscode": {
     "languageId": "polyglot-notebook"
    }
   },
   "outputs": [
    {
     "name": "stdout",
     "output_type": "stream",
     "text": [
      "0x00 --- 0x01 --- 0x02 --- 0x03 --- 0x04 --- 0x05 --- 0x06 --- 0x07 --- 0x08 --- 0x09 --- 0x0A --- 0x0B --- 0x0C --- 0x0D --- 0x0E --- 0x0F --- \r\n",
      "0x10 --- 0x11 --- 0x12 --- 0x13 --- 0x14 --- 0x15 --- 0x16 --- 0x17 --- 0x18 --- 0x19 --- 0x1A --- 0x1B --- 0x1C --- 0x1D --- 0x1E --- 0x1F --- \r\n",
      "0x20 ' ' 0x21 '!' 0x22 '\"' 0x23 '#' 0x24 '$' 0x25 '%' 0x26 '&' 0x27 ''' 0x28 '(' 0x29 ')' 0x2A '*' 0x2B '+' 0x2C ',' 0x2D '-' 0x2E '.' 0x2F '/' \r\n",
      "0x30 '0' 0x31 '1' 0x32 '2' 0x33 '3' 0x34 '4' 0x35 '5' 0x36 '6' 0x37 '7' 0x38 '8' 0x39 '9' 0x3A ':' 0x3B ';' 0x3C '<' 0x3D '=' 0x3E '>' 0x3F '?' \r\n",
      "0x40 '@' 0x41 'A' 0x42 'B' 0x43 'C' 0x44 'D' 0x45 'E' 0x46 'F' 0x47 'G' 0x48 'H' 0x49 'I' 0x4A 'J' 0x4B 'K' 0x4C 'L' 0x4D 'M' 0x4E 'N' 0x4F 'O' \r\n",
      "0x50 'P' 0x51 'Q' 0x52 'R' 0x53 'S' 0x54 'T' 0x55 'U' 0x56 'V' 0x57 'W' 0x58 'X' 0x59 'Y' 0x5A 'Z' 0x5B '[' 0x5C '\\' 0x5D ']' 0x5E '^' 0x5F '_' \r\n",
      "0x60 '`' 0x61 'a' 0x62 'b' 0x63 'c' 0x64 'd' 0x65 'e' 0x66 'f' 0x67 'g' 0x68 'h' 0x69 'i' 0x6A 'j' 0x6B 'k' 0x6C 'l' 0x6D 'm' 0x6E 'n' 0x6F 'o' \r\n",
      "0x70 'p' 0x71 'q' 0x72 'r' 0x73 's' 0x74 't' 0x75 'u' 0x76 'v' 0x77 'w' 0x78 'x' 0x79 'y' 0x7A 'z' 0x7B '{' 0x7C '|' 0x7D '}' 0x7E '~' 0x7F --- \r\n",
      "0x80 --- 0x81 --- 0x82 --- 0x83 --- 0x84 --- 0x85 --- 0x86 --- 0x87 --- 0x88 --- 0x89 --- 0x8A --- 0x8B --- 0x8C --- 0x8D --- 0x8E --- 0x8F --- \r\n",
      "0x90 --- 0x91 --- 0x92 --- 0x93 --- 0x94 --- 0x95 --- 0x96 --- 0x97 --- 0x98 --- 0x99 --- 0x9A --- 0x9B --- 0x9C --- 0x9D --- 0x9E --- 0x9F --- \r\n",
      "0xA0 ' ' 0xA1 '¡' 0xA2 '¢' 0xA3 '£' 0xA4 '¤' 0xA5 '¥' 0xA6 '¦' 0xA7 '§' 0xA8 '¨' 0xA9 '©' 0xAA 'ª' 0xAB '«' 0xAC '¬' 0xAD '­' 0xAE '®' 0xAF '¯' \r\n",
      "0xB0 '°' 0xB1 '±' 0xB2 '²' 0xB3 '³' 0xB4 '´' 0xB5 'µ' 0xB6 '¶' 0xB7 '·' 0xB8 '¸' 0xB9 '¹' 0xBA 'º' 0xBB '»' 0xBC '¼' 0xBD '½' 0xBE '¾' 0xBF '¿' \r\n",
      "0xC0 'À' 0xC1 'Á' 0xC2 'Â' 0xC3 'Ã' 0xC4 'Ä' 0xC5 'Å' 0xC6 'Æ' 0xC7 'Ç' 0xC8 'È' 0xC9 'É' 0xCA 'Ê' 0xCB 'Ë' 0xCC 'Ì' 0xCD 'Í' 0xCE 'Î' 0xCF 'Ï' \r\n",
      "0xD0 'Ð' 0xD1 'Ñ' 0xD2 'Ò' 0xD3 'Ó' 0xD4 'Ô' 0xD5 'Õ' 0xD6 'Ö' 0xD7 '×' 0xD8 'Ø' 0xD9 'Ù' 0xDA 'Ú' 0xDB 'Û' 0xDC 'Ü' 0xDD 'Ý' 0xDE 'Þ' 0xDF 'ß' \r\n",
      "0xE0 'à' 0xE1 'á' 0xE2 'â' 0xE3 'ã' 0xE4 'ä' 0xE5 'å' 0xE6 'æ' 0xE7 'ç' 0xE8 'è' 0xE9 'é' 0xEA 'ê' 0xEB 'ë' 0xEC 'ì' 0xED 'í' 0xEE 'î' 0xEF 'ï' \r\n",
      "0xF0 'ð' 0xF1 'ñ' 0xF2 'ò' 0xF3 'ó' 0xF4 'ô' 0xF5 'õ' 0xF6 'ö' 0xF7 '÷' 0xF8 'ø' 0xF9 'ù' 0xFA 'ú' 0xFB 'û' 0xFC 'ü' 0xFD 'ý' 0xFE 'þ' 0xFF 'ÿ' \r\n"
     ]
    }
   ],
   "source": [
    "// Make it faster with StringBuilder\n",
    "StringBuilder sb = new();\n",
    "\n",
    "for (int i = 0; i < 256; ++i)\n",
    "{\n",
    "    if (i > 0 && i % 16 == 0)\n",
    "    {\n",
    "        sb.Append(Environment.NewLine);\n",
    "    }\n",
    "\n",
    "    char c = (char)i;\n",
    "\n",
    "    if (char.IsControl(c))\n",
    "    {\n",
    "        sb.Append($\"0x{i:X2} --- \");\n",
    "    }\n",
    "    else\n",
    "    {\n",
    "        sb.Append($\"0x{i:X2} '{c}' \");\n",
    "    }\n",
    "}\n",
    "\n",
    "Console.WriteLine(sb);"
   ]
  },
  {
   "attachments": {},
   "cell_type": "markdown",
   "metadata": {},
   "source": [
    "# By Value vs. By Reference\n",
    "- by value is a copy of the input value\n",
    "- by reference is a pointer to the input value"
   ]
  },
  {
   "cell_type": "code",
   "execution_count": 6,
   "metadata": {
    "dotnet_interactive": {
     "language": "csharp"
    },
    "polyglot_notebook": {
     "kernelName": "csharp"
    },
    "vscode": {
     "languageId": "polyglot-notebook"
    }
   },
   "outputs": [
    {
     "name": "stdout",
     "output_type": "stream",
     "text": [
      "--------------\n",
      "Text property:\n",
      "Hello from MyClass\n",
      "Hello from MyStruct\n",
      "--------------\n",
      "Text property after Manip() was called:\n",
      "MyClass was changed\n",
      "Hello from MyStruct\n",
      "--------------\n",
      "Text property after Manip(ref) was called:\n",
      "MyClass was changed\n",
      "MyStruct was changed\n",
      "--------------\n",
      "i1 and s1\n",
      "55\n",
      "Hello World\n",
      "--------------\n",
      "i1 and s1 after Manip() was called\n",
      "55\n",
      "Hello World\n",
      "--------------\n",
      "i1 and s1 after Manip(ref) was called\n",
      "105\n",
      "The string was modified\n"
     ]
    }
   ],
   "source": [
    "class MyClass\n",
    "{\n",
    "    public string Text;\n",
    "}\n",
    "\n",
    "struct MyStruct\n",
    "{\n",
    "    public string Text;\n",
    "}\n",
    "\n",
    "// class is passing by reference\n",
    "void ManipMyClass(MyClass v)\n",
    "{\n",
    "    v.Text = \"MyClass was changed\";\n",
    "}\n",
    "\n",
    "// struct is passing by value\n",
    "void ManipMyStruct(MyStruct v)\n",
    "{\n",
    "    v.Text = \"MyStruct was changed\";\n",
    "}\n",
    "\n",
    "// passing by reference\n",
    "void ManipMyClass(ref MyClass v)\n",
    "{\n",
    "    v.Text = \"MyClass was changed\";\n",
    "}\n",
    "\n",
    "// passing by reference\n",
    "void ManipMyStruct(ref MyStruct v)\n",
    "{\n",
    "    v.Text = \"MyStruct was changed\";\n",
    "}\n",
    "\n",
    "var mc = new MyClass()\n",
    "{\n",
    "    Text = \"Hello from MyClass\"\n",
    "};\n",
    "\n",
    "var ms = new MyStruct()\n",
    "{\n",
    "    Text = \"Hello from MyStruct\"\n",
    "};\n",
    "\n",
    "Console.WriteLine(\"--------------\");\n",
    "Console.WriteLine(\"Text property:\");\n",
    "Console.WriteLine(mc.Text);\n",
    "Console.WriteLine(ms.Text);\n",
    "\n",
    "ManipMyClass(mc);\n",
    "ManipMyStruct(ms);\n",
    "\n",
    "Console.WriteLine(\"--------------\");\n",
    "Console.WriteLine(\"Text property after Manip() was called:\");\n",
    "Console.WriteLine(mc.Text);\n",
    "Console.WriteLine(ms.Text);\n",
    "\n",
    "ManipMyClass(ref mc);\n",
    "ManipMyStruct(ref ms);\n",
    "\n",
    "Console.WriteLine(\"--------------\");\n",
    "Console.WriteLine(\"Text property after Manip(ref) was called:\");\n",
    "Console.WriteLine(mc.Text);\n",
    "Console.WriteLine(ms.Text);\n",
    "\n",
    "int i1 = 55;\n",
    "string s1 = \"Hello World\";\n",
    "\n",
    "// passing by value (primitive)\n",
    "void ManipInt(int i)\n",
    "{\n",
    "    i = 105;\n",
    "}\n",
    "\n",
    "// passing by reference (object)\n",
    "// but string is immutable (unveränderlich)\n",
    "void ManipString(string s)\n",
    "{\n",
    "    s = \"The string was modified\";\n",
    "}\n",
    "\n",
    "// passing by reference\n",
    "void ManipInt(ref int i)\n",
    "{\n",
    "    i = 105;\n",
    "}\n",
    "\n",
    "// passing by reference\n",
    "void ManipString(ref string s)\n",
    "{\n",
    "    s = \"The string was modified\";\n",
    "}\n",
    "\n",
    "Console.WriteLine(\"--------------\");\n",
    "Console.WriteLine(\"i1 and s1\");\n",
    "Console.WriteLine(i1);\n",
    "Console.WriteLine(s1);\n",
    "\n",
    "ManipInt(i1);\n",
    "ManipString(s1);\n",
    "\n",
    "Console.WriteLine(\"--------------\");\n",
    "Console.WriteLine(\"i1 and s1 after Manip() was called\");\n",
    "Console.WriteLine(i1);\n",
    "Console.WriteLine(s1);\n",
    "\n",
    "ManipInt(ref i1);\n",
    "ManipString(ref s1);\n",
    "\n",
    "Console.WriteLine(\"--------------\");\n",
    "Console.WriteLine(\"i1 and s1 after Manip(ref) was called\");\n",
    "Console.WriteLine(i1);\n",
    "Console.WriteLine(s1);\n"
   ]
  }
 ],
 "metadata": {
  "language_info": {
   "name": "python"
  },
  "orig_nbformat": 4
 },
 "nbformat": 4,
 "nbformat_minor": 2
}
